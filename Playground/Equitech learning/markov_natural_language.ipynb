{
 "cells": [
  {
   "cell_type": "code",
   "execution_count": null,
   "metadata": {},
   "outputs": [],
   "source": [
    "import random"
   ]
  },
  {
   "cell_type": "code",
   "execution_count": 1,
   "metadata": {},
   "outputs": [],
   "source": [
    "class MarkovModel:\n",
    "    def __init__(self, text, k):\n",
    "        self.k = k\n",
    "        self.symbol_table = {}\n",
    "        self.build_model(text)\n",
    "\n",
    "    def build_model(self, text):\n",
    "        circular_text = text + text[:self.k]  # Treat text as circular\n",
    "        for i in range(len(text)):\n",
    "            kgram = circular_text[i:i+self.k]\n",
    "            next_char = circular_text[i+self.k]\n",
    "            if kgram not in self.symbol_table:\n",
    "                self.symbol_table[kgram] = {}\n",
    "            if next_char not in self.symbol_table[kgram]:\n",
    "                self.symbol_table[kgram][next_char] = 0\n",
    "            self.symbol_table[kgram][next_char] += 1\n",
    "\n",
    "    def order(self):\n",
    "        return self.k\n",
    "\n",
    "    def freq(self, kgram):\n",
    "        if len(kgram) != self.k:\n",
    "            raise ValueError(\"Invalid k-gram length\")\n",
    "        return self.symbol_table.get(kgram, {}).get(None, 0)\n",
    "\n",
    "    def freq_char(self, kgram, char):\n",
    "        if len(kgram) != self.k:\n",
    "            raise ValueError(\"Invalid k-gram length\")\n",
    "        return self.symbol_table.get(kgram, {}).get(char, 0)\n",
    "\n",
    "    def rand(self, kgram):\n",
    "        if len(kgram) != self.k:\n",
    "            raise ValueError(\"Invalid k-gram length\")\n",
    "        next_chars = list(self.symbol_table.get(kgram, {}).keys())\n",
    "        probabilities = [self.symbol_table[kgram][char] for char in next_chars]\n",
    "        chosen_char = random.choices(next_chars, probabilities)[0]\n",
    "        return chosen_char\n",
    "\n",
    "    def gen(self, kgram, T):\n",
    "        if len(kgram) != self.k or T < self.k:\n",
    "            raise ValueError(\"Invalid k-gram length or T value\")\n",
    "        generated_text = kgram\n",
    "        for _ in range(T - self.k):\n",
    "            next_char = self.rand(kgram)\n",
    "            generated_text += next_char\n",
    "            kgram = kgram[1:] + next_char\n",
    "        return generated_text\n"
   ]
  },
  {
   "cell_type": "code",
   "execution_count": 12,
   "metadata": {},
   "outputs": [
    {
     "name": "stdout",
     "output_type": "stream",
     "text": [
      "gagaggcgaag\n"
     ]
    }
   ],
   "source": [
    "class TextGenerator:\n",
    "    @staticmethod\n",
    "    def generate_text(k, T, input_text):\n",
    "        model = MarkovModel(input_text, k)\n",
    "        initial_kgram = input_text[:k]\n",
    "        return model.gen(initial_kgram, T)\n",
    "\n",
    "# Example Usage:\n",
    "input_text = \"gagggagaggcgagaaa\"\n",
    "k_value = 2\n",
    "T_value = 11\n",
    "\n",
    "generator = TextGenerator()\n",
    "generated_text = generator.generate_text(k_value, T_value, input_text)\n",
    "print(generated_text)\n"
   ]
  }
 ],
 "metadata": {
  "kernelspec": {
   "display_name": "ds",
   "language": "python",
   "name": "python3"
  },
  "language_info": {
   "codemirror_mode": {
    "name": "ipython",
    "version": 3
   },
   "file_extension": ".py",
   "mimetype": "text/x-python",
   "name": "python",
   "nbconvert_exporter": "python",
   "pygments_lexer": "ipython3",
   "version": "3.9.13"
  },
  "orig_nbformat": 4
 },
 "nbformat": 4,
 "nbformat_minor": 2
}
